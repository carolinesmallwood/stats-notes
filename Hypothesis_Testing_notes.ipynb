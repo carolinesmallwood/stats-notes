{
 "cells": [
  {
   "cell_type": "code",
   "execution_count": 31,
   "id": "5056bb11",
   "metadata": {},
   "outputs": [],
   "source": [
    "from scipy import stats\n",
    "import numpy as np\n",
    "import pandas as pd"
   ]
  },
  {
   "cell_type": "code",
   "execution_count": 166,
   "id": "0dbb3fb7-ccd0-4f18-9538-326b636bdb69",
   "metadata": {},
   "outputs": [],
   "source": [
    "# suppress scientific notation when printing arrays\n",
    "np.set_printoptions(formatter={'float': '{: 0.1f}'.format})"
   ]
  },
  {
   "cell_type": "markdown",
   "id": "9a64156c-1144-4bd6-9ffd-46add4c4fa04",
   "metadata": {},
   "source": [
    "# Hypothesis Testing Overview"
   ]
  },
  {
   "cell_type": "markdown",
   "id": "4bd9b677-26e9-455d-a5a1-9a8728cfb681",
   "metadata": {},
   "source": [
    "Our objective in hypothesis testing is to evaluate the default assumption (null hypothesis) about some parameter or distribution. Our alternate hypothesis can just be that the null hypothesis is not true. If we have some intuition about our population/parameter(s), we can make our alternate hypothesis more specific and therefore we can create a more focused one-sided test.\n",
    "\n",
    "Examples, drawn from Khan Academy:\n",
    "\n",
    "\n",
    "$H_0 : \\mu = some value.$\n",
    "$H_A : \\mu \\neq some value.$<br>\n",
    "Two-sided test\n",
    "\n",
    "$H_0: \\mu = some value.$\n",
    "$H_A: \\mu > some value.$<br>\n",
    "One-sided test\n",
    "\n",
    "Then, given some observed data from that population, we calculate how likely it is that we would get a sample at least that extreme (in case of two-sided test) or at least that large/small (in case of one-sided test) **assuming** $H_0$ is true.\n",
    "\n",
    "We calculate this by choosing an appropriate test statistic depending on the distrbution and then calculating the likelihood of the sample test statistic (p-value).\n"
   ]
  },
  {
   "cell_type": "markdown",
   "id": "b483cce0-b475-459e-8db1-2aee6baca51a",
   "metadata": {},
   "source": [
    "**Prior** to calculating a test statistic and its p-value, we set a significance level $\\alpha$. <br>$\\alpha$ represents our threshold for deciding if our sample data is too unlikely for the null hypothesis to be true. Common values are between 1% and 10%, but it varies by industry and use case.\n",
    "\n",
    "If p < $\\alpha$, we conclude that 'There is sufficient evidence to reject $H_0$.'<br>\n",
    "If p >= $\\alpha$, we conclude that 'There is not sufficient evidence to reject $H_0$.'"
   ]
  },
  {
   "cell_type": "markdown",
   "id": "0644c16c-6bf3-410a-aaeb-1960bb2eb6dc",
   "metadata": {},
   "source": [
    "### Type I and Type II Errors"
   ]
  },
  {
   "cell_type": "code",
   "execution_count": 167,
   "id": "9023afee-68ab-49af-ba3f-ef3b8e7abb1a",
   "metadata": {},
   "outputs": [
    {
     "name": "stdout",
     "output_type": "stream",
     "text": [
      "zsh:1: unknown file attribute: y\n"
     ]
    }
   ],
   "source": [
    "![type_errors](TypeErrors.png)"
   ]
  },
  {
   "cell_type": "markdown",
   "id": "fcba61c1-94d5-478b-a400-9cddf8098b4a",
   "metadata": {},
   "source": [
    "Remember Type **II** error means we failed **to** reject the null hypothesis, i.e. $H_0$ is false but we didn't reject it. Thus, the opposite (Type I) is when we rejected a true $H_0$."
   ]
  },
  {
   "cell_type": "markdown",
   "id": "9b211198",
   "metadata": {},
   "source": [
    "## z-test for binomial distribution (p)"
   ]
  },
  {
   "cell_type": "markdown",
   "id": "1aff3406-945d-4db4-8ad8-f3ec1796b5ac",
   "metadata": {},
   "source": [
    "Use Case:\n",
    "* Evaluate how likely it is that our hypothesized p value describes our population, given a sample with proportion $\\hat{p}$.\n",
    "\n",
    "Example hypotheses:\n",
    "\n",
    "$H_0: p = 0.75.$<br>\n",
    "$H_A: p \\neq 0.75.$<br>\n",
    "Two-sided test\n",
    "\n",
    "$H_0: p = 0.1.$<br>\n",
    "$H_A: p < 0.1.$<br>\n",
    "One-sided test\n",
    "\n",
    "Conditions for inference:\n",
    "* Random Sample\n",
    "* Independent Sample: either we sample from the population with replacement or, more likely, we sample <10% of the population (of size N).\n",
    "$$ n <= \\frac{N}{10} $$\n",
    "* Normal Condition: n must be large enough that we expect to get at least 10 successes and at least 10 failures (where our distribution is defined as P(success) = p for any individual observation). Thus:\n",
    "$$ np >= 10, n(p-1) >= 10 $$"
   ]
  },
  {
   "cell_type": "markdown",
   "id": "c7dd5839-c671-4ddc-bc02-9e61fe3575c9",
   "metadata": {},
   "source": [
    "Meeting the independence condition allows us to estimate the standard deviation of the sample proportion $\\hat{p}$ with $$ \\sigma_{\\hat{p}} = $$"
   ]
  },
  {
   "cell_type": "markdown",
   "id": "08c8379f-0907-428d-9a14-272434ea9c33",
   "metadata": {},
   "source": [
    "Meeting the normal condition means we can assume that the sampling distribution of $\\hat{p]$ is normally distributed and thus it is appropriate to use z-scores to construct a confidence interval or conduct a hypothesis test."
   ]
  },
  {
   "cell_type": "markdown",
   "id": "fc533bd3",
   "metadata": {},
   "source": [
    "## z-test for normal distribution ($\\mu$)"
   ]
  },
  {
   "cell_type": "markdown",
   "id": "381c22da-25ce-41b8-9dcc-e96fbc4960c7",
   "metadata": {},
   "source": [
    "## two-sample z-test"
   ]
  },
  {
   "cell_type": "markdown",
   "id": "4c1b206a",
   "metadata": {},
   "source": [
    "## t-test for normal distribution ($\\mu$)"
   ]
  },
  {
   "cell_type": "markdown",
   "id": "52e0802c-0b0c-48a7-aab6-37ae6bab5e20",
   "metadata": {},
   "source": [
    "# Chi-Square ${\\chi}^2_k$ Tests"
   ]
  },
  {
   "cell_type": "markdown",
   "id": "3e8c4bdf-2681-4284-84a7-1bb1d6720bf2",
   "metadata": {},
   "source": [
    "Conditions for Inference:\n",
    "* Random sample\n",
    "* Large Counts: Expected number of outcomes for each category >= 5\n",
    "* Independence: either sampling with replacement or n <= N/10 ie the sample size is less than 10% of population size\n",
    "\n",
    "These are the same for all three variations."
   ]
  },
  {
   "cell_type": "markdown",
   "id": "7fa642d5",
   "metadata": {},
   "source": [
    "## ${\\chi}^2_k$ test for goodness-of-fit\n",
    "\n",
    "Use Case:\n",
    "* Evaluate whether a set of categorical data came from a claimed discrete distribution or not. The null hypothesis is that they did and the alternate hypothesis is that they didn't.\n",
    "* In other words, evaluate how **well** a hypothesized distribution across categories **fits** observed data.\n",
    "\n",
    "Sample Statistic:\n",
    "${\\chi}^2 = \\sum_{i=1}^{k+1} \\frac{(obs_i - exp_i)^1}{exp_i}$\n",
    "\n",
    "We sum over the number of categories (k+1). Degrees of freedom = k.\n",
    "\n",
    "Calculate cdf using `scipy.stats.chi2.cdf(x, k)` where x is the sample statistic and k is degrees of freedom.\n",
    "\n",
    "From the ucla.edu link below: \"The goodness-of-fit test expands the one-proportion z-test. The one-proportion z-test is used if the outcome has only two categories. The goodness-of-fit test is used if you have two or more categories.\""
   ]
  },
  {
   "cell_type": "markdown",
   "id": "0f773214-4ff2-46d8-b63b-0b2b3b36e5ef",
   "metadata": {},
   "source": [
    "### Worked Example 1"
   ]
  },
  {
   "cell_type": "markdown",
   "id": "deeb6333",
   "metadata": {},
   "source": [
    "exercise from Khan Academy: https://www.khanacademy.org/math/statistics-probability/inference-categorical-data-chi-square-tests/chi-square-goodness-of-fit-tests/v/chi-square-statistic\n",
    "\n",
    "$H_0$: answers to multiple choice questions from examiner are uniformly distributed between A,B,C,D"
   ]
  },
  {
   "cell_type": "code",
   "execution_count": 20,
   "id": "8bdaa34f",
   "metadata": {},
   "outputs": [],
   "source": [
    "h0_dist = np.asarray([25, 25, 25, 25])\n",
    "obs = np.asarray([20, 20, 25, 35])\n",
    "\n",
    "# calculate χ test statistic\n",
    "# this is (obs - expected (h0_dist))^2 / expected\n",
    "# if sum(obs) != sum(h0_dist), we would need to calculate expected\n",
    "sample_chi_sq = np.sum(np.divide(np.square(temp), h0_dist))"
   ]
  },
  {
   "cell_type": "code",
   "execution_count": 21,
   "id": "d79b3a8d",
   "metadata": {},
   "outputs": [],
   "source": [
    "# probability of χ^2 >= sample_chi_sq\n",
    "p = stats.chi2.cdf(sample_chi_sq, 3)"
   ]
  },
  {
   "cell_type": "code",
   "execution_count": 22,
   "id": "4e8b10b9",
   "metadata": {},
   "outputs": [
    {
     "data": {
      "text/plain": [
       "0.8883897749052874"
      ]
     },
     "execution_count": 22,
     "metadata": {},
     "output_type": "execute_result"
    }
   ],
   "source": [
    "p"
   ]
  },
  {
   "cell_type": "code",
   "execution_count": 23,
   "id": "5fb3b43b",
   "metadata": {},
   "outputs": [],
   "source": [
    "# It seems like this is p(χ^2 <= sample_chi_sq)\n",
    "# We need p(χ^2 >= sample_chi_sq)\n",
    "# Let's verify how scipy.stats.chi2.cdf() works by plotting some data\n",
    "# we'll use 3 deg of freedom since that's the distribution in the above exercise\n",
    "x = range(0,11)\n",
    "y = stats.chi2.cdf(x, 3)"
   ]
  },
  {
   "cell_type": "code",
   "execution_count": 28,
   "id": "53aaa79b",
   "metadata": {},
   "outputs": [
    {
     "data": {
      "text/plain": [
       "[<matplotlib.lines.Line2D at 0x138c76940>]"
      ]
     },
     "execution_count": 28,
     "metadata": {},
     "output_type": "execute_result"
    },
    {
     "data": {
      "image/png": "[encoded data removed]",
      "text/plain": [
       "<Figure size 432x288 with 1 Axes>"
      ]
     },
     "metadata": {
      "needs_background": "light"
     },
     "output_type": "display_data"
    }
   ],
   "source": [
    "import matplotlib.pyplot as plt\n",
    "plt.plot(x, y)"
   ]
  },
  {
   "cell_type": "code",
   "execution_count": 29,
   "id": "e0584f80",
   "metadata": {},
   "outputs": [],
   "source": [
    "# In Khan Academy, we are shown χ^2 tables with significance levels\n",
    "# instead of confidence intervals. It looks like scipy.stats shows\n",
    "# χ^2 cdfs in a way consistent with other test statistics."
   ]
  },
  {
   "cell_type": "code",
   "execution_count": 30,
   "id": "d3e888fd",
   "metadata": {},
   "outputs": [],
   "source": [
    "# Therefore, we need to take 1 - stats.chi2.cdf(χ, 3) to get the significance level\n",
    "p = 1 - stats.chi2.cdf(χ, 3)"
   ]
  },
  {
   "cell_type": "code",
   "execution_count": 31,
   "id": "c6a47b4f",
   "metadata": {},
   "outputs": [
    {
     "name": "stdout",
     "output_type": "stream",
     "text": [
      "0.11161022509471263\n"
     ]
    }
   ],
   "source": [
    "print(p)"
   ]
  },
  {
   "cell_type": "code",
   "execution_count": 32,
   "id": "bc953d2f",
   "metadata": {},
   "outputs": [],
   "source": [
    "# In the exercise, significance level (α) = 0.05.\n",
    "# p > 0.05, therefore we do not have suffficient evidence to reject H0."
   ]
  },
  {
   "cell_type": "markdown",
   "id": "1d815cab",
   "metadata": {},
   "source": [
    "### Worked Example 2"
   ]
  },
  {
   "cell_type": "markdown",
   "id": "01638b67",
   "metadata": {},
   "source": [
    "Also from Khan Academy: https://www.khanacademy.org/math/statistics-probability/inference-categorical-data-chi-square-tests/chi-square-goodness-of-fit-tests/v/goodness-of-fit-example"
   ]
  },
  {
   "cell_type": "code",
   "execution_count": 39,
   "id": "759cd8a4-d69f-4768-bb7c-5aad2352055a",
   "metadata": {},
   "outputs": [],
   "source": [
    "# expected win/loss/tie in rock, paper, scissors\n",
    "expected = np.asarray([8, 8, 8])\n",
    "\n",
    "observed = np.asarray([4, 13, 7])\n",
    "\n",
    "sample_chi_sq = np.sum(np.divide(np.square(observed-expected),expected))\n",
    "\n",
    "sample_chi_sq"
   ]
  },
  {
   "cell_type": "code",
   "execution_count": 42,
   "id": "6a65ef8c-c984-4b6e-bcfc-11e641d0d183",
   "metadata": {},
   "outputs": [],
   "source": [
    "p = 1 - stats.chi2.cdf(sample_chi_sq, 2)\n",
    "\n",
    "p"
   ]
  },
  {
   "cell_type": "markdown",
   "id": "241368e9-14d7-47f0-8eb5-eb6cf1c7e479",
   "metadata": {},
   "source": [
    "### function"
   ]
  },
  {
   "cell_type": "markdown",
   "id": "2a666ca7-b77d-41f9-879a-e8d6f1983d5d",
   "metadata": {},
   "source": [
    "Let's turn this into a function which takes expected, observed and returns p-value"
   ]
  },
  {
   "cell_type": "code",
   "execution_count": 158,
   "id": "3fcf1742",
   "metadata": {},
   "outputs": [],
   "source": [
    "## TO DO: add check that expected, observed are 1-dimensional\n",
    "# else, calculation of k might throw errors\n",
    "## TO DO: could add a nice print out of values at each step\n",
    "def chi2_test(expected, observed):\n",
    "    \"\"\" Calculates p-value of chi2 test statistic for expected vs observed\n",
    "    Args:\n",
    "        expected (list): list of floats (proportions), hypothesized distribution, must sum to 1\n",
    "        observed (list): sample frequency table\n",
    "        \n",
    "        WARNING: since expected dist must sum to zero, take care with truncated or rounded decimals eg 0.333!\n",
    "        \n",
    "    Returns:\n",
    "        (float): sample chi^2 test statistic\n",
    "        (float): p-value, likelihood of observing observed data given expected distribution\n",
    "        returns -1 if expected and observed have different length or if Large Counts condition isn't met\n",
    "        \n",
    "    Function depends on numpy and scipy.stats\n",
    "    \"\"\"\n",
    "    \n",
    "    try:\n",
    "        expected = np.asarray(expected)\n",
    "        observed = np.asarray(observed)\n",
    "    except:\n",
    "        return -1\n",
    "    \n",
    "    # verify that expected and observed have same length ie same num of categories\n",
    "    if (expected.size != observed.size):\n",
    "        return -1\n",
    "    \n",
    "    # verify that expected dist sums to 1\n",
    "    if (np.sum(expected) != 1):\n",
    "        return -1\n",
    "    \n",
    "    # calculate sample size\n",
    "    n = np.sum(observed)\n",
    "    \n",
    "    # calculate expected counts\n",
    "    exp = n * expected\n",
    "    \n",
    "    # check Large Counts condition (5+ expected in each cat)\n",
    "    if (np.any(exp < 5)):\n",
    "        return -1\n",
    "    \n",
    "    # calculate test statistic\n",
    "    sample_chi2 = np.sum(np.divide(np.square(observed - exp), exp))\n",
    "    \n",
    "    # calculate deg of freedom (num of cats - 1)\n",
    "    k = expected.size - 1\n",
    "    \n",
    "    # calculate p-value\n",
    "    p = 1 - stats.chi2.cdf(sample_chi2, k)\n",
    "    \n",
    "    return sample_chi2, p"
   ]
  },
  {
   "cell_type": "code",
   "execution_count": 116,
   "id": "70a03846",
   "metadata": {},
   "outputs": [
    {
     "data": {
      "text/plain": [
       "(5.25, 0.07243975703425143)"
      ]
     },
     "execution_count": 116,
     "metadata": {},
     "output_type": "execute_result"
    }
   ],
   "source": [
    "# let's try the last example once more using this new function\n",
    "e = np.asarray([1/3, 1/3, 1/3])\n",
    "o = np.asarray([4, 13, 7])\n",
    "\n",
    "chi2_test(e, o)"
   ]
  },
  {
   "cell_type": "code",
   "execution_count": 165,
   "id": "d9d0ace4-4473-4041-abb4-8f599171a2a8",
   "metadata": {},
   "outputs": [
    {
     "data": {
      "text/plain": [
       "(3.3925925925925924, 0.18336138421910453)"
      ]
     },
     "execution_count": 165,
     "metadata": {},
     "output_type": "execute_result"
    }
   ],
   "source": [
    "e = np.asarray([0.6, 0.25, 0.15])\n",
    "o = np.asarray([33, 8, 4])\n",
    "\n",
    "chi2_test(e, o)"
   ]
  },
  {
   "cell_type": "markdown",
   "id": "6f971c66-91d0-49ff-b0e6-15dbd6e1b3fb",
   "metadata": {},
   "source": [
    "## $\\chi^2_k$ test for homogeneity\n",
    "\n",
    "Use Case:\n",
    "* Evaluate how similar **different groups** are.\n",
    "* Example: Evaluate likelihood of efficacy of interventions relative to control, where $H_0$ is complete inefficacy i.e. completely homogeneous.\n",
    "\n",
    "If we have a contingency table with independent (or explanatory) variable along one axis and dependent (or response) variable along the other axis,<br>**degrees of freedom** = (number of rows - 1) * (number of columns - 1).\n",
    "\n",
    "From ucla.edu link below: \"The 'test of homogeneity' is a way of determining whether two or more sub-groups of a population share the same distribution of a single categorical variable.\""
   ]
  },
  {
   "cell_type": "markdown",
   "id": "22f7e4ff-446d-4d0a-bf6e-588b2116b63d",
   "metadata": {},
   "source": [
    "### function"
   ]
  },
  {
   "cell_type": "code",
   "execution_count": 150,
   "id": "7438d7d6-8978-4b46-a170-5caa8bf96433",
   "metadata": {},
   "outputs": [],
   "source": [
    "# let's turn this into a function:\n",
    "def chi2_test_for_homog(observed):\n",
    "    \"\"\" Returns chi^2 statistic and p-value for test of homogeneity between groups\n",
    "    Args:\n",
    "        observed (df): contingency table with explanatory variables along columns,\n",
    "                    response variables along rows with values SET AS INDEX\n",
    "                    \n",
    "    Returns:\n",
    "        float: sample chi^2 statistic\n",
    "        float: p-value of chi^2 statistic\n",
    "    \"\"\"\n",
    "    \n",
    "    table = observed.copy()\n",
    "    \n",
    "    # add total row and column\n",
    "    table.loc['total'] = table.sum()\n",
    "    table.loc[:, 'total'] = table.sum(axis=1)\n",
    "    \n",
    "    # extract sample size n\n",
    "    n = table.loc['total', 'total']\n",
    "    \n",
    "    # calculate overall proportion per response\n",
    "    # slice total column excluding last element (grand total value)\n",
    "    p = table.iloc[:-1].loc[:, 'total'] / n\n",
    "    \n",
    "    # calculate expected table\n",
    "    expected = np.outer(p, table.loc['total'][:-1])\n",
    "\n",
    "    # sanity check\n",
    "    print ('proportion if homogenous')\n",
    "    print(p)\n",
    "    print('\\nobserved data')\n",
    "    print(table)\n",
    "    print('\\nexpected data')\n",
    "    print(expected)\n",
    "    \n",
    "    \n",
    "    # calculate chi2 statistic\n",
    "    chi2 = np.sum(np.divide(np.square(np.subtract(observed.values, expected)), expected), axis=None)\n",
    "    \n",
    "    # calculate degrees of freedom\n",
    "    # (num of rows - 1) * (num of cols - 1)\n",
    "    dof = (expected.shape[0] - 1) * (expected.shape[1] - 1)\n",
    "    \n",
    "    print('degrees of freedom' + str(dof))\n",
    "    \n",
    "    # calculate p-value\n",
    "    p = 1 - stats.chi2.cdf(chi2, dof)\n",
    "    \n",
    "    return chi2, p"
   ]
  },
  {
   "cell_type": "code",
   "execution_count": 151,
   "id": "1b2e32a9-a6e4-4b6a-a8df-044e4adcaff4",
   "metadata": {
    "collapsed": true,
    "jupyter": {
     "outputs_hidden": true
    },
    "tags": []
   },
   "outputs": [
    {
     "name": "stdout",
     "output_type": "stream",
     "text": [
      "proportion if homogenous\n",
      "Sport\n",
      "Bobsleigh        0.060000\n",
      "Curling          0.296667\n",
      "Hockey           0.226667\n",
      "Speed skating    0.416667\n",
      "Name: total, dtype: float64\n",
      "\n",
      "observed data\n",
      "               China  India  total\n",
      "Sport                             \n",
      "Bobsleigh          8     10     18\n",
      "Curling           28     61     89\n",
      "Hockey            39     29     68\n",
      "Speed skating     75     50    125\n",
      "total            150    150    300\n",
      "\n",
      "expected data\n",
      "[[ 9.0  9.0]\n",
      " [ 44.5  44.5]\n",
      " [ 34.0  34.0]\n",
      " [ 62.5  62.5]]\n",
      "degrees of freedom3\n"
     ]
    },
    {
     "data": {
      "text/plain": [
       "(18.928765513696113, 0.00028282921547295725)"
      ]
     },
     "execution_count": 151,
     "metadata": {},
     "output_type": "execute_result"
    }
   ],
   "source": [
    "# using the function\n",
    "cols = ['Sport', 'China', 'India']\n",
    "data = [['Bobsleigh', 8, 10],\n",
    "        ['Curling', 28, 61],\n",
    "        ['Hockey', 39, 29],\n",
    "        ['Speed skating', 75, 50]]\n",
    "t = pd.DataFrame(data, columns=cols)\n",
    "t = t.set_index('Sport')\n",
    "\n",
    "\n",
    "chi2_test_for_homog(t)"
   ]
  },
  {
   "cell_type": "markdown",
   "id": "930e007f-1ada-4452-a015-567e588a6c39",
   "metadata": {},
   "source": [
    "## $\\chi^2_k$ test for association (independence)\n",
    "\n",
    "Use Case: \n",
    "* Evaluate whether two attributes are independent (vs associated) within the **same group**.\n",
    "\n",
    "In the chi-square test for homogeneity, the distribution along one axis is given. Ie we have the distribution across the groups/the explanatory variable. So, we calculate the percentage of each explanatory variable value given the overall observed distribution of the response variable.\n",
    "\n",
    "In the test for association, both distributions are drawn from the observed data. So, for each combination of values from the two variables, we are calculating % of whole (n) that are in that combo.\n",
    "\n",
    "As in the test for homogeneity, **degrees of freedom** = (number of rows - 1) * (number of columns - 1).\n",
    "\n",
    "From ucla.edu link below: \"Now we will have a method for deciding whether our observed P(A|B) is \"too far\" from our observed P(A) to conclude independence.\""
   ]
  },
  {
   "cell_type": "markdown",
   "id": "3573fdd5-0733-4813-a24e-d883c7cc6783",
   "metadata": {},
   "source": [
    "### function"
   ]
  },
  {
   "cell_type": "code",
   "execution_count": 145,
   "id": "cbaddc5d-a73d-4e0d-a4c7-12d03e8fce52",
   "metadata": {},
   "outputs": [],
   "source": [
    "# adapt test for homogeneity for association:\n",
    "def chi2_test_for_assoc(observed):\n",
    "    \"\"\" Returns chi^2 statistic and p-value for test of association between attributes\n",
    "    Args:\n",
    "        observed (df): contingency table with explanatory variables along columns,\n",
    "                    response variables along rows with values SET AS INDEX\n",
    "                    observed should NOT have totals/subtotals yet!\n",
    "                    \n",
    "    Returns:\n",
    "        float: sample chi^2 statistic\n",
    "        float: p-value of chi^2 statistic\n",
    "    \"\"\"\n",
    "    \n",
    "    table = observed.copy()\n",
    "    \n",
    "    # add total row and column\n",
    "    table.loc['total'] = table.sum()\n",
    "    table.loc[:, 'total'] = table.sum(axis=1)\n",
    "    \n",
    "    # extract sample size n\n",
    "    n = table.loc['total', 'total']\n",
    "    \n",
    "    # calculate proportion across columns (x)\n",
    "    # slice total row excluding last element (grand total n)\n",
    "    p_x = table.loc['total'].iloc[:-1] / n\n",
    "    \n",
    "    # calculate proportion across rows (y)\n",
    "    # slice total column excluding last element (grand total n)\n",
    "    p_y = table.iloc[:-1].loc[:, 'total'] / n\n",
    "    \n",
    "    # calculate expected table\n",
    "    # first calculate percentages per (x,y) combo\n",
    "    # ORDER OF VECTORS IS IMPORTANT\n",
    "    p = np.outer(p_y, p_x)\n",
    "    # then multiple by sample size n to get counts\n",
    "    expected = p * n\n",
    "\n",
    "    # sanity check\n",
    "    print('observed data')\n",
    "    print(table)\n",
    "    print('\\nproportion across columns')\n",
    "    print(p_x)\n",
    "    print('\\nproportion across rows')\n",
    "    print(p_y)\n",
    "    print('\\nexpected data')\n",
    "    print(expected)\n",
    "    \n",
    "    \n",
    "    #chi2 step by step\n",
    "    temp = np.subtract(observed.values, expected)\n",
    "    print('\\nDifference between observed and expected:')\n",
    "    print(temp)\n",
    "    temp = np.square(temp)\n",
    "    print ('\\nDiff squared:')\n",
    "    print(temp)\n",
    "    temp = np.divide(temp, expected)\n",
    "    print('\\n Diff sq divided by expected:')\n",
    "    print(temp)\n",
    "    temp = np.sum(temp)\n",
    "    print('\\n Sum elements:')\n",
    "    print(temp)\n",
    "    \n",
    "    # calculate chi2 statistic\n",
    "    chi2 = np.sum(np.divide(np.square(np.subtract(observed.values, expected)), expected), axis=None)\n",
    "    \n",
    "    # calculate degrees of freedom\n",
    "    # (num of rows - 1) * (num of cols - 1)\n",
    "    dof = (expected.shape[0] - 1) * (expected.shape[1] - 1)\n",
    "    \n",
    "    print('degrees of freedom: ' + str(dof))\n",
    "    \n",
    "    # calculate p-value\n",
    "    p = 1 - stats.chi2.cdf(chi2, dof)\n",
    "    \n",
    "    return chi2, p"
   ]
  },
  {
   "cell_type": "markdown",
   "id": "9c5f31c3-d5ec-4d15-8af6-d8602adf1a3e",
   "metadata": {},
   "source": [
    "Hang on, this functions the same way as the test for homogeneity... Using the proportion across the x variable to get the counts for each x value is the same as just starting with the counts for the explanatory/independent variable."
   ]
  },
  {
   "cell_type": "markdown",
   "id": "93923d9a-ccb5-4bbd-b18f-4deb492a3efb",
   "metadata": {},
   "source": [
    "So, the difference is just in how we interpret the results? Saying that groups have a homogenenous response to some explanatory variable is the same as saying that the explanatory variable and response variable are independent? In other words, the difference between defining the explanatory var as two groups and defining it as one (umbrella) group with two different values for the same trait is basically semantic."
   ]
  },
  {
   "cell_type": "markdown",
   "id": "051066c4-566c-4af7-a894-3928c47ded16",
   "metadata": {},
   "source": [
    "From ucla.edu:\n",
    "\n",
    "http://inspire.stat.ucla.edu/unit_13/#:~:text=In%20the%20test%20of%20independence,from%20each%20sub%2Dgroup%20separately.\n",
    "\n",
    "\"In the test of independence, observational units are collected at random from a population and two categorical variables are observed for each unit. In the test of homogeneity, the data are collected by randomly sampling from each sub-group separately.\"\n",
    "\n",
    "This link is a fantastic short summary of the chi-square tests.\n",
    "\n"
   ]
  },
  {
   "cell_type": "markdown",
   "id": "87ad7cf2-d676-4a01-95ce-fa185805765f",
   "metadata": {},
   "source": [
    "**So, the difference between the test for homogeneity and association/independence comes down to a difference in sampling. In the test for homogeneity, we can assume the samples of each sub-group will be the same size. Whereas in the test for independence, we sample from one group and observe the distribution across attributes.**"
   ]
  },
  {
   "cell_type": "code",
   "execution_count": 124,
   "id": "aceb2b99-82e1-4332-8fa9-b82880c0fc44",
   "metadata": {},
   "outputs": [],
   "source": [
    "# using our function\n",
    "cols = ['', 'Ambidextrous', 'Left-handed', 'Right-handed']\n",
    "data = [['Left foot', 6, 20, 94],\n",
    "       ['Right foot', 10, 13, 97],\n",
    "       ['Same length', 20, 33, 307]]\n",
    "obs = pd.DataFrame(data, columns=cols).set_index('')"
   ]
  },
  {
   "cell_type": "code",
   "execution_count": 161,
   "id": "ff010d69-77cb-470f-a65f-543d77df36eb",
   "metadata": {},
   "outputs": [
    {
     "name": "stdout",
     "output_type": "stream",
     "text": [
      "observed data\n",
      "           0-50  51-100  100+  total\n",
      "Time                                \n",
      "Morning     203      77    50    330\n",
      "Afternoon   117      36    12    165\n",
      "Evening      45       7     3     55\n",
      "total       365     120    65    550\n",
      "\n",
      "proportion across columns\n",
      "0-50      0.663636\n",
      "51-100    0.218182\n",
      "100+      0.118182\n",
      "Name: total, dtype: float64\n",
      "\n",
      "proportion across rows\n",
      "Time\n",
      "Morning      0.6\n",
      "Afternoon    0.3\n",
      "Evening      0.1\n",
      "Name: total, dtype: float64\n",
      "\n",
      "expected data\n",
      "[[ 219.0  72.0  39.0]\n",
      " [ 109.5  36.0  19.5]\n",
      " [ 36.5  12.0  6.5]]\n",
      "\n",
      "Difference between observed and expected:\n",
      "[[-16.0  5.0  11.0]\n",
      " [ 7.5  0.0 -7.5]\n",
      " [ 8.5 -5.0 -3.5]]\n",
      "\n",
      "Diff squared:\n",
      "[[ 256.0  25.0  121.0]\n",
      " [ 56.2  0.0  56.2]\n",
      " [ 72.2  25.0  12.2]]\n",
      "\n",
      " Diff sq divided by expected:\n",
      "[[ 1.2  0.3  3.1]\n",
      " [ 0.5  0.0  2.9]\n",
      " [ 2.0  2.1  1.9]]\n",
      "\n",
      " Sum elements:\n",
      "13.964450883971432\n",
      "degrees of freedom: 4\n"
     ]
    },
    {
     "data": {
      "text/plain": [
       "(13.964450883971432, 0.00740938238529254)"
      ]
     },
     "execution_count": 161,
     "metadata": {},
     "output_type": "execute_result"
    }
   ],
   "source": [
    "chi2_test_for_assoc(obs)"
   ]
  },
  {
   "cell_type": "code",
   "execution_count": 160,
   "id": "b0ee6d1b-4ba6-403c-8d10-92b8f0773c80",
   "metadata": {},
   "outputs": [],
   "source": [
    "cols = ['Time', '0-50', '51-100', '100+']\n",
    "data = [['Morning', 203, 77, 50],\n",
    "        ['Afternoon', 117, 36, 12],\n",
    "        ['Evening', 45, 7, 3]]\n",
    "obs = pd.DataFrame(data, columns=cols).set_index('Time')"
   ]
  },
  {
   "cell_type": "code",
   "execution_count": null,
   "id": "f8579fe2-fd5b-4115-b55a-217294e10c01",
   "metadata": {},
   "outputs": [],
   "source": []
  }
 ],
 "metadata": {
  "kernelspec": {
   "display_name": "Python 3 (ipykernel)",
   "language": "python",
   "name": "python3"
  },
  "language_info": {
   "codemirror_mode": {
    "name": "ipython",
    "version": 3
   },
   "file_extension": ".py",
   "mimetype": "text/x-python",
   "name": "python",
   "nbconvert_exporter": "python",
   "pygments_lexer": "ipython3",
   "version": "3.9.10"
  }
 },
 "nbformat": 4,
 "nbformat_minor": 5
}
